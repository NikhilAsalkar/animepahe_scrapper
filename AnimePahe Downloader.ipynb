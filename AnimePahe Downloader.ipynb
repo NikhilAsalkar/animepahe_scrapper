{
 "cells": [
  {
   "cell_type": "code",
   "execution_count": 31,
   "id": "c507071e",
   "metadata": {},
   "outputs": [],
   "source": [
    "reso_needed = '1080' # resolution of video 480, 720 , 1080\n",
    "filter_anime = 'Blue Lock' # name to be fetched from the website\n",
    "start_episode, end_episode = 12, 13 \n",
    "store_location = ''  # path to save the videos"
   ]
  },
  {
   "cell_type": "markdown",
   "id": "c4f0bf6f",
   "metadata": {},
   "source": [
    "# Import required dependencies and get Index of all anime"
   ]
  },
  {
   "cell_type": "code",
   "execution_count": 22,
   "id": "e9a1bd13",
   "metadata": {},
   "outputs": [],
   "source": [
    "import re\n",
    "from bs4 import BeautifulSoup\n",
    "import requests\n",
    "from js2py.pyjs import *\n",
    "requests.packages.urllib3.disable_warnings()\n",
    "import time"
   ]
  },
  {
   "cell_type": "code",
   "execution_count": 23,
   "id": "51caa7bf",
   "metadata": {},
   "outputs": [
    {
     "name": "stdout",
     "output_type": "stream",
     "text": [
      "Found total of 4686 anime indexes\n"
     ]
    }
   ],
   "source": [
    "request_index = requests.get(\"https://animepahe.com/anime\")\n",
    "index_raw_html = BeautifulSoup(request_index.text, 'html.parser')\n",
    "href_filtered = index_raw_html.find_all('a',href=True,title=True)\n",
    "index = list()\n",
    "for index_search in href_filtered:\n",
    "    if index_search['title']:\n",
    "        anime = dict()\n",
    "        anime['title'] = index_search['title']\n",
    "        id_split = index_search['href'].split(\"/\")\n",
    "        if len(id_split) == 3:\n",
    "            anime['id'] = id_split[2]\n",
    "            index.append(anime)\n",
    "print(\"Found total of {} anime indexes\".format(len(index)))"
   ]
  },
  {
   "cell_type": "markdown",
   "id": "52fa8f57",
   "metadata": {},
   "source": [
    "# Filter anime from index and episodes"
   ]
  },
  {
   "cell_type": "code",
   "execution_count": 32,
   "id": "f773a2b6",
   "metadata": {},
   "outputs": [
    {
     "name": "stdout",
     "output_type": "stream",
     "text": [
      "Downloading 2 total episodes\n"
     ]
    }
   ],
   "source": [
    "url = None\n",
    "start_page = int(start_episode / 30) + 1\n",
    "end_page = int(end_episode / 30) + 1\n",
    "for anime in index:\n",
    "    if anime['title'] == filter_anime:\n",
    "        url = \"https://animepahe.com/api?m=release&id={id}&sort=episode_asc\".format(id=anime['id'])\n",
    "episodes = []\n",
    "page_count = start_page\n",
    "while page_count <= end_page:\n",
    "    time.sleep(0.01)\n",
    "    api_url = url+\"&page={page}\".format(page=page_count)\n",
    "    api_data = requests.get(api_url).json()[\"data\"]\n",
    "    for data in api_data:\n",
    "        epi_no = data[\"episode\"]\n",
    "        if epi_no < start_episode or epi_no > end_episode:\n",
    "            continue\n",
    "        episode = {}\n",
    "        episode['episode'] = epi_no\n",
    "        episode['session'] = data[\"session\"]\n",
    "        episodes.append(episode)\n",
    "\n",
    "    page_count += 1\n",
    "print(\"Downloading {} total episodes\".format(len(episodes)))"
   ]
  },
  {
   "cell_type": "code",
   "execution_count": 33,
   "id": "ba2b4060",
   "metadata": {},
   "outputs": [],
   "source": [
    "video_api_url = \"https://animepahe.com/api?m=links&id={}\"\n",
    "multi_url = list()\n",
    "for ep in episodes:\n",
    "    video_url = video_api_url.format(ep['session'])\n",
    "    api_data = requests.get(video_url).json()['data']\n",
    "    eps = dict()\n",
    "    for data in api_data:\n",
    "        for reso in data.keys():\n",
    "            if reso == reso_needed:\n",
    "                eps['ep'] = ep.get('episode')\n",
    "                eps['url'] = data.get(reso).get('kwik_pahewin')\n",
    "                multi_url.append(eps)"
   ]
  },
  {
   "cell_type": "code",
   "execution_count": 34,
   "id": "b31cfdfc",
   "metadata": {},
   "outputs": [],
   "source": [
    "for ep_url in multi_url:\n",
    "    response = requests.get(ep_url.get('url'))\n",
    "    soup = BeautifulSoup(response.text, 'html.parser')\n",
    "    ep_url['url'] = soup.find_all('script')[0].string[191:221].split('/')[4]"
   ]
  },
  {
   "cell_type": "code",
   "execution_count": 35,
   "id": "d5fe5a94",
   "metadata": {},
   "outputs": [],
   "source": [
    "var = Scope(JS_BUILTINS)\n",
    "set_global_object(var)\n",
    "\n",
    "# Code follows:\n",
    "var.registers(['extract_data', '_0xe12c'])\n",
    "\n",
    "@Js\n",
    "def PyJsHoisted__0xe12c_(d, e, f, this, arguments, var=var):\n",
    "    var = Scope({'d': d, 'e': e, 'f': f, 'this': this, 'arguments': arguments}, var)\n",
    "    var.registers(['e', 'i', 'h', 'g', 'k', 'd', 'j', 'f'])\n",
    "    var.put('g', Js('0123456789abcdefghijklmnopqrstuvwxyzABCDEFGHIJKLMNOPQRSTUVWXYZ+/').callprop('split', Js('')))\n",
    "    var.put('h', var.get('g').callprop('slice', Js(0.0), var.get('e')))\n",
    "    var.put('i', var.get('g').callprop('slice', Js(0.0), var.get('f')))\n",
    "\n",
    "    @Js\n",
    "    def PyJs_anonymous_0_(a, b, c, this, arguments, var=var):\n",
    "        var = Scope({'a': a, 'b': b, 'c': c, 'this': this, 'arguments': arguments}, var)\n",
    "        var.registers(['b', 'c', 'a'])\n",
    "        if PyJsStrictNeq(var.get('h').callprop('indexOf', var.get('b')), (-Js(1.0))):\n",
    "            return var.put('a', (\n",
    "                        var.get('h').callprop('indexOf', var.get('b')) * var.get('Math').callprop('pow', var.get('e'),\n",
    "                                                                                                  var.get('c'))), '+')\n",
    "\n",
    "    PyJs_anonymous_0_._set_name('anonymous')\n",
    "    var.put('j',\n",
    "            var.get('d').callprop('split', Js('')).callprop('reverse').callprop('reduce', PyJs_anonymous_0_, Js(0.0)))\n",
    "    var.put('k', Js(''))\n",
    "    while (var.get('j') > Js(0.0)):\n",
    "        var.put('k', (var.get('i').get((var.get('j') % var.get('f'))) + var.get('k')))\n",
    "        var.put('j', ((var.get('j') - (var.get('j') % var.get('f'))) / var.get('f')))\n",
    "    return (var.get('k') or Js('0'))\n",
    "\n",
    "\n",
    "PyJsHoisted__0xe12c_.func_name = '_0xe12c'\n",
    "var.put('_0xe12c', PyJsHoisted__0xe12c_)\n",
    "\n",
    "\n",
    "@Js\n",
    "def PyJsHoisted_extract_data_(h, u, n, t, e, r, this, arguments, var=var):\n",
    "    var = Scope({'h': h, 'u': u, 'n': n, 't': t, 'e': e, 'r': r, 'this': this, 'arguments': arguments}, var)\n",
    "    var.registers(['e', 'len', 'i', 'h', 'u', 'n', 'r', 's', 't', 'j'])\n",
    "    var.put('r', Js(''))\n",
    "    # for JS loop\n",
    "    var.put('i', Js(0.0))\n",
    "    var.put('len', var.get('h').get('length'))\n",
    "    while (var.get('i') < var.get('len')):\n",
    "        try:\n",
    "            var.put('s', Js(''))\n",
    "            while PyJsStrictNeq(var.get('h').get(var.get('i')), var.get('n').get(var.get('e'))):\n",
    "                var.put('s', var.get('h').get(var.get('i')), '+')\n",
    "                (var.put('i', Js(var.get('i').to_number()) + Js(1)) - Js(1))\n",
    "            # for JS loop\n",
    "            var.put('j', Js(0.0))\n",
    "            while (var.get('j') < var.get('n').get('length')):\n",
    "                try:\n",
    "                    var.put('s', var.get('s').callprop('replace',\n",
    "                                                       var.get('RegExp').create(var.get('n').get(var.get('j')),\n",
    "                                                                                Js('g')), var.get('j')))\n",
    "                finally:\n",
    "                    (var.put('j', Js(var.get('j').to_number()) + Js(1)) - Js(1))\n",
    "            var.put('r', var.get('String').callprop('fromCharCode', (\n",
    "                        var.get('_0xe12c')(var.get('s'), var.get('e'), Js(10.0)) - var.get('t'))), '+')\n",
    "        finally:\n",
    "            (var.put('i', Js(var.get('i').to_number()) + Js(1)) - Js(1))\n",
    "    return var.get('decodeURIComponent')(var.get('escape')(var.get('r')))\n",
    "\n",
    "\n",
    "PyJsHoisted_extract_data_.func_name = 'extract_data'\n",
    "var.put('extract_data', PyJsHoisted_extract_data_)\n",
    "\n",
    "kwik_token_extractor = var.to_python()"
   ]
  },
  {
   "cell_type": "code",
   "execution_count": 36,
   "id": "2ebac980",
   "metadata": {},
   "outputs": [],
   "source": [
    "def set_token(response_text):\n",
    "    data = re.search(\"[\\S]+\\\",[\\d]+,\\\"[\\S]+\\\",[\\d]+,[\\d]+,[\\d]+\", response_text).group(0)\n",
    "    parameters = data.split(\",\")\n",
    "    para1 = parameters[0].strip(\"\\\"\")\n",
    "    para2 = int(parameters[1])\n",
    "    para3 = parameters[2].strip(\"\\\"\")\n",
    "    para4 = int(parameters[3])\n",
    "    para5 = int(parameters[4])\n",
    "    para6 = int(parameters[5])\n",
    "    page_data = kwik_token_extractor.extract_data(para1, para2, para3, para4, para5, para6)\n",
    "    page_data = BeautifulSoup(page_data, \"html.parser\")\n",
    "    input_field = page_data.find(\"input\", attrs={\"name\": \"_token\"})\n",
    "    if input_field is not None:\n",
    "        token = input_field[\"value\"]\n",
    "        return token\n",
    "    return False"
   ]
  },
  {
   "cell_type": "code",
   "execution_count": 37,
   "id": "263ef034",
   "metadata": {},
   "outputs": [],
   "source": [
    "for ep in multi_url:\n",
    "    kwid_url = 'https://kwik.cx/f/{}'.format(ep.get('url'))\n",
    "    page_head = {\n",
    "            \"referer\": kwid_url,\n",
    "            \"user-agent\": \"Mozilla/5.0 (Windows NT 10.0; Win64; x64) AppleWebKit/537.36 (KHTML, like Gecko) Chrome/80.0.3987.149 Safari/537.36 Edg/80.0.361.69\"\n",
    "        }\n",
    "    page_opned = requests.get(kwid_url,headers=page_head)\n",
    "    token = set_token(page_opned.text)\n",
    "    cookie = page_opned.headers[\"set-cookie\"]\n",
    "    download_page_url = 'https://kwik.cx/d/{}?_token={}'.format(ep.get('url'),token)\n",
    "    download_link_head = {\n",
    "            \"referer\": download_page_url,\n",
    "            \"origin\": \"https://kwik.cx\",\n",
    "            \"user-agent\": \"Mozilla/5.0 (Windows NT 10.0; Win64; x64) AppleWebKit/537.36 (KHTML, like Gecko) Chrome/80.0.3987.149 Safari/537.36 Edg/80.0.361.69\",\n",
    "            \"cookie\": cookie\n",
    "        }\n",
    "    resp_headers = requests.post(download_page_url, headers=download_link_head, allow_redirects=False)\n",
    "    ep['location'] = resp_headers.headers.get('location')"
   ]
  },
  {
   "cell_type": "code",
   "execution_count": null,
   "id": "5b1c45a2",
   "metadata": {},
   "outputs": [
    {
     "name": "stdout",
     "output_type": "stream",
     "text": [
      "Downloading Blue Lock_012.mp4\n",
      "Completed\n",
      "Downloading Blue Lock_013.mp4\n",
      "Completed\n"
     ]
    }
   ],
   "source": [
    "import shutil\n",
    "def download_anime(ep):\n",
    "    try:\n",
    "        file_name = \"{}_{:03}.mp4\".format(filter_anime.replace(\":\",\"\").replace(\"-\",\" \"),ep.get('ep'))\n",
    "        file_path = '{}/{}' .format(store_location,file_name)\n",
    "        print(\"Downloading {}\".format(file_name))\n",
    "        with requests.get(ep.get('location'), stream=True, verify=False) as r:\n",
    "            with open(file_path, 'wb') as f:\n",
    "                shutil.copyfileobj(r.raw, f, length=16 * 1024 * 1024)\n",
    "        print(\"Completed\")\n",
    "    except Exception as e:\n",
    "        print(e)\n",
    "\n",
    "for ep in multi_url:\n",
    "    download_anime(ep)"
   ]
  },
  {
   "cell_type": "code",
   "execution_count": null,
   "id": "af4d47da",
   "metadata": {},
   "outputs": [],
   "source": []
  }
 ],
 "metadata": {
  "kernelspec": {
   "display_name": "Python 3 (ipykernel)",
   "language": "python",
   "name": "python3"
  },
  "language_info": {
   "codemirror_mode": {
    "name": "ipython",
    "version": 3
   },
   "file_extension": ".py",
   "mimetype": "text/x-python",
   "name": "python",
   "nbconvert_exporter": "python",
   "pygments_lexer": "ipython3",
   "version": "3.9.12"
  }
 },
 "nbformat": 4,
 "nbformat_minor": 5
}
